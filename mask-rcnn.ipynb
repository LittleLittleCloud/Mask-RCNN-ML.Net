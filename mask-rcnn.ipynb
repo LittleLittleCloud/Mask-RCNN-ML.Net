{
 "cells": [
  {
   "cell_type": "markdown",
   "source": [
    "### Install dependencies"
   ],
   "metadata": {
    "dotnet_interactive": {
     "language": "csharp"
    }
   }
  },
  {
   "cell_type": "code",
   "execution_count": null,
   "source": [
    "#r \"nuget:Microsoft.ML,1.6.0\"\r\n",
    "#r \"nuget:Microsoft.ML.OnnxRuntime,1.9.0\"\r\n",
    "#r \"nuget:Microsoft.ML.ImageAnalytics,1.6.0\"\r\n",
    "#r \"nuget:Microsoft.ML.OnnxTransformer,1.6.0\"\r\n"
   ],
   "outputs": [
    {
     "data": {
      "text/html": [
       "<div><div></div><div></div><div><strong>Installed Packages</strong><ul><li><span>Microsoft.ML, 1.6.0</span></li><li><span>Microsoft.ML.ImageAnalytics, 1.6.0</span></li><li><span>Microsoft.ML.OnnxRuntime, 1.9.0</span></li><li><span>Microsoft.ML.OnnxTransformer, 1.6.0</span></li></ul></div></div>"
      ]
     },
     "metadata": {},
     "output_type": "display_data"
    }
   ],
   "metadata": {
    "dotnet_interactive": {
     "language": "csharp"
    }
   }
  },
  {
   "cell_type": "code",
   "execution_count": null,
   "source": [
    "using Microsoft.ML;\r\n",
    "using Microsoft.ML.Data;\r\n",
    "using Microsoft.ML.Transforms.Image;\r\n",
    "using Newtonsoft.Json;\r\n",
    "using System;\r\n",
    "using System.Collections.Generic;\r\n",
    "using System.Drawing;\r\n",
    "using System.IO;\r\n",
    "using System.Linq;"
   ],
   "outputs": [],
   "metadata": {
    "dotnet_interactive": {
     "language": "csharp"
    }
   }
  },
  {
   "cell_type": "markdown",
   "source": [
    "### Define constant"
   ],
   "metadata": {
    "dotnet_interactive": {
     "language": "csharp"
    }
   }
  },
  {
   "cell_type": "code",
   "execution_count": null,
   "source": [
    "// path to mask-rcnn onnx model\r\n",
    "var OnnxModelPath = \"/path/to/onnx/model\";\r\n",
    "\r\n",
    "// prediction size\r\n",
    "// we just use one image, so it's 1\r\n",
    "var prediction = 1;\r\n",
    "\r\n",
    "// image height\r\n",
    "var Height = 600;\r\n",
    "\r\n",
    "// image width\r\n",
    "var Width = 800;\r\n",
    "\r\n",
    "// path to mask-rcnn onnx model's label json\r\n",
    "var LabelJsonPath = \"/path/to/label\";\r\n",
    "\r\n",
    "// path to example image\r\n",
    "var ImagePath = \"/path/to/image\";\r\n",
    "\r\n",
    "// onnx model input shape\r\n",
    "var ShapeDictionary = new Dictionary<string, int[]>()\r\n",
    "{\r\n",
    "    {\"input\", new int[] { prediction, 3, Height, Width} },\r\n",
    "};"
   ],
   "outputs": [],
   "metadata": {
    "dotnet_interactive": {
     "language": "csharp"
    }
   }
  },
  {
   "cell_type": "markdown",
   "source": [
    "### Create ModelInput/Output class\r\n"
   ],
   "metadata": {
    "dotnet_interactive": {
     "language": "csharp"
    }
   }
  },
  {
   "cell_type": "code",
   "execution_count": null,
   "source": [
    "class ModelInput\r\n",
    "{\r\n",
    "    [ColumnName(\"ImageSource\"), ImageType(800, 600)]\r\n",
    "    public Bitmap ImageSource { get; set; }\r\n",
    "}\r\n",
    "\r\n",
    "class ModelOutput\r\n",
    "{\r\n",
    "    // shape [1, 4] \r\n",
    "    [ColumnName(\"boxes\")]\r\n",
    "    public float[] Boxes { get; set; } = new float[0];\r\n",
    "\r\n",
    "    // shape [1]\r\n",
    "    [ColumnName(\"labels\")]\r\n",
    "    public long[] Labels { get; set; } = new long[0];\r\n",
    "\r\n",
    "    // shape: [1]\r\n",
    "    [ColumnName(\"scores\")]\r\n",
    "    public float[] Scores { get; set; } = new float[0];\r\n",
    "\r\n",
    "    // shape: [1, 1, height, width]\r\n",
    "    [ColumnName(\"masks\")]\r\n",
    "    public float[] Masks { get; set; } = new float[0];\r\n",
    "}"
   ],
   "outputs": [],
   "metadata": {
    "dotnet_interactive": {
     "language": "csharp"
    }
   }
  },
  {
   "cell_type": "markdown",
   "source": [
    "### Define pipeline && load dataset && create MLNet model"
   ],
   "metadata": {
    "dotnet_interactive": {
     "language": "csharp"
    }
   }
  },
  {
   "cell_type": "code",
   "execution_count": null,
   "source": [
    "var mlContext = new MLContext();\r\n",
    "var pipeline = mlContext.Transforms.ResizeImages(imageWidth: Width, imageHeight: Height, outputColumnName: @\"input\", inputColumnName: @\"ImageSource\", cropAnchor: ImageResizingEstimator.Anchor.Center, resizing: ImageResizingEstimator.ResizingKind.Fill)\r\n",
    "                                    .Append(mlContext.Transforms.ExtractPixels(outputColumnName: @\"input\", inputColumnName: @\"input\", colorsToExtract: ImagePixelExtractingEstimator.ColorBits.Rgb, orderOfExtraction: ImagePixelExtractingEstimator.ColorsOrder.ARGB))\r\n",
    "                                    .Append(mlContext.Transforms.ApplyOnnxModel(modelFile: OnnxModelPath, shapeDictionary: ShapeDictionary));\r\n",
    "\r\n",
    "Bitmap image = (Bitmap)Bitmap.FromFile(ImagePath);\r\n",
    "var input = new ModelInput(){\r\n",
    "    ImageSource = image,\r\n",
    "};\r\n",
    "\r\n",
    "var dataset = mlContext.Data.LoadFromEnumerable(new ModelInput[] { input });\r\n",
    "var model = pipeline.Fit(dataset);"
   ],
   "outputs": [
    {
     "output_type": "error",
     "ename": "Error",
     "evalue": "System.IO.IOException: Model file /path/to/onnx/model does not exists.\r\n   at Microsoft.ML.Transforms.Onnx.OnnxTransformer..ctor(IHostEnvironment env, Options options, Byte[] modelBytes)\r\n   at Microsoft.ML.Transforms.Onnx.OnnxTransformer..ctor(IHostEnvironment env, String[] outputColumnNames, String[] inputColumnNames, String modelFile, Nullable`1 gpuDeviceId, Boolean fallbackToCpu, IDictionary`2 shapeDictionary, Int32 recursionLimit)\r\n   at Microsoft.ML.Transforms.Onnx.OnnxScoringEstimator..ctor(IHostEnvironment env, String modelFile, Nullable`1 gpuDeviceId, Boolean fallbackToCpu, IDictionary`2 shapeDictionary, Int32 recursionLimit)\r\n   at Microsoft.ML.OnnxCatalog.ApplyOnnxModel(TransformsCatalog catalog, String modelFile, IDictionary`2 shapeDictionary, Nullable`1 gpuDeviceId, Boolean fallbackToCpu)\r\n   at Submission#14.<<Initialize>>d__0.MoveNext()\r\n--- End of stack trace from previous location ---\r\n   at Microsoft.CodeAnalysis.Scripting.ScriptExecutionState.RunSubmissionsAsync[TResult](ImmutableArray`1 precedingExecutors, Func`2 currentExecutor, StrongBox`1 exceptionHolderOpt, Func`2 catchExceptionOpt, CancellationToken cancellationToken)",
     "traceback": [
      "System.IO.IOException: Model file /path/to/onnx/model does not exists.\r\n",
      "   at Microsoft.ML.Transforms.Onnx.OnnxTransformer..ctor(IHostEnvironment env, Options options, Byte[] modelBytes)\r\n",
      "   at Microsoft.ML.Transforms.Onnx.OnnxTransformer..ctor(IHostEnvironment env, String[] outputColumnNames, String[] inputColumnNames, String modelFile, Nullable`1 gpuDeviceId, Boolean fallbackToCpu, IDictionary`2 shapeDictionary, Int32 recursionLimit)\r\n",
      "   at Microsoft.ML.Transforms.Onnx.OnnxScoringEstimator..ctor(IHostEnvironment env, String modelFile, Nullable`1 gpuDeviceId, Boolean fallbackToCpu, IDictionary`2 shapeDictionary, Int32 recursionLimit)\r\n",
      "   at Microsoft.ML.OnnxCatalog.ApplyOnnxModel(TransformsCatalog catalog, String modelFile, IDictionary`2 shapeDictionary, Nullable`1 gpuDeviceId, Boolean fallbackToCpu)\r\n",
      "   at Submission#14.<<Initialize>>d__0.MoveNext()\r\n",
      "--- End of stack trace from previous location ---\r\n",
      "   at Microsoft.CodeAnalysis.Scripting.ScriptExecutionState.RunSubmissionsAsync[TResult](ImmutableArray`1 precedingExecutors, Func`2 currentExecutor, StrongBox`1 exceptionHolderOpt, Func`2 catchExceptionOpt, CancellationToken cancellationToken)"
     ]
    }
   ],
   "metadata": {
    "dotnet_interactive": {
     "language": "csharp"
    }
   }
  },
  {
   "cell_type": "markdown",
   "source": [
    "### Create prediction engine && predict"
   ],
   "metadata": {}
  },
  {
   "cell_type": "code",
   "execution_count": null,
   "source": [
    "var predictEngine = mlContext.Model.CreatePredictionEngine<ModelInput, ModelOutput>(model, dataset.Schema);\r\n",
    "var output = predictEngine.Predict(input);\r\n",
    "JsonConvert.SerializeObject(output);"
   ],
   "outputs": [
    {
     "output_type": "error",
     "ename": "Error",
     "evalue": "System.NullReferenceException: Object reference not set to an instance of an object.\r\n   at Submission#15.<<Initialize>>d__0.MoveNext()\r\n--- End of stack trace from previous location ---\r\n   at Microsoft.CodeAnalysis.Scripting.ScriptExecutionState.RunSubmissionsAsync[TResult](ImmutableArray`1 precedingExecutors, Func`2 currentExecutor, StrongBox`1 exceptionHolderOpt, Func`2 catchExceptionOpt, CancellationToken cancellationToken)",
     "traceback": [
      "System.NullReferenceException: Object reference not set to an instance of an object.\r\n",
      "   at Submission#15.<<Initialize>>d__0.MoveNext()\r\n",
      "--- End of stack trace from previous location ---\r\n",
      "   at Microsoft.CodeAnalysis.Scripting.ScriptExecutionState.RunSubmissionsAsync[TResult](ImmutableArray`1 precedingExecutors, Func`2 currentExecutor, StrongBox`1 exceptionHolderOpt, Func`2 catchExceptionOpt, CancellationToken cancellationToken)"
     ]
    }
   ],
   "metadata": {
    "dotnet_interactive": {
     "language": "csharp"
    }
   }
  }
 ],
 "metadata": {
  "orig_nbformat": 4,
  "language_info": {
   "file_extension": ".cs",
   "mimetype": "text/x-csharp",
   "name": "C#",
   "pygments_lexer": "csharp",
   "version": "9.0"
  },
  "kernelspec": {
   "display_name": ".NET (C#)",
   "language": "C#",
   "name": ".net-csharp"
  }
 },
 "nbformat": 4,
 "nbformat_minor": 2
}